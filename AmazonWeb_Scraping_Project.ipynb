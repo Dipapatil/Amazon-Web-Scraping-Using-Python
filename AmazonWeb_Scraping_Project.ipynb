{
 "cells": [
  {
   "cell_type": "code",
   "execution_count": 12,
   "id": "ee61f8f0",
   "metadata": {},
   "outputs": [],
   "source": [
    "# import libraries\n",
    "\n",
    "from bs4 import BeautifulSoup\n",
    "import requests\n",
    "import time\n",
    "import datetime\n",
    "import pandas\n",
    "import smtplib"
   ]
  },
  {
   "cell_type": "code",
   "execution_count": 13,
   "id": "4dc98cff",
   "metadata": {},
   "outputs": [
    {
     "name": "stdout",
     "output_type": "stream",
     "text": [
      "\n",
      "                   Funny Got Data MIS Data Systems Business Analyst T-Shirt\n",
      "                  \n",
      "\n",
      "                  $16.99\n",
      "                 \n",
      "<span class=\"a-icon-alt\">\n",
      "                       4.8 out of 5 stars\n",
      "                      </span>\n",
      "16.99\n",
      "Funny Got Data MIS Data Systems Business Analyst T-Shirt\n",
      "4.8\n"
     ]
    }
   ],
   "source": [
    "# get data and clean it\n",
    "\n",
    "\n",
    "URL = 'https://www.amazon.com/Funny-Data-Systems-Business-Analyst/dp/B07FNW9FGJ/ref=sr_1_3?dchild=1&keywords=data%2Banalyst%2Btshirt&qid=1626655184&sr=8-3&customId=B0752XJYNL&th=1'\n",
    "headers ={\"User-Agent\": \"Mozilla/5.0 (Windows NT 10.0; Win64; x64) AppleWebKit/537.36 (KHTML, like Gecko) Chrome/106.0.0.0 Safari/537.36\", \n",
    "    \"X-Amzn-Trace-Id\": \"Root=1-63616c0f-6d3fade6293440a13de31f54\",\"Accept-Encoding\":\"gzip, deflate\", \"Accept\":\"text/html,application/xhtml+xml,application/xml;q=0.9,*/*;q=0.8\", \"DNT\":\"1\",\"Connection\":\"close\", \"Upgrade-Insecure-Requests\":\"1\"}\n",
    "\n",
    "\n",
    "page = requests.get(URL, headers=headers)\n",
    "\n",
    "soup1 = BeautifulSoup(page.content, \"html.parser\")\n",
    "\n",
    "soup2 = BeautifulSoup(soup1.prettify(), \"html.parser\")\n",
    "\n",
    "title = soup2.find('span',id='productTitle')\n",
    "str(title.text)\n",
    "\n",
    "for i in title:\n",
    "    print(i.text)\n",
    "    \n",
    "\n",
    "price = soup2.find('span', class_='a-offscreen')\n",
    "#str(price.text)\n",
    "\n",
    "#print(title)\n",
    "print(price.text)\n",
    "\n",
    "rating = soup2.find('span',class_='a-icon-alt')\n",
    "print(rating)\n",
    "\n",
    "# cleaning data \n",
    "\n",
    "price = price.text\n",
    "price = price.strip()[1:]\n",
    "\n",
    "title = title.text\n",
    "title = title.strip()\n",
    "\n",
    "rating = rating.text\n",
    "rating = rating.strip()[0:3]\n",
    "\n",
    "print(price)\n",
    "print(title)\n",
    "print(rating)\n"
   ]
  },
  {
   "cell_type": "code",
   "execution_count": 14,
   "id": "a1b36601",
   "metadata": {},
   "outputs": [
    {
     "name": "stdout",
     "output_type": "stream",
     "text": [
      "2022-11-03\n"
     ]
    }
   ],
   "source": [
    "import datetime\n",
    "\n",
    "today = datetime.date.today()\n",
    "print(today)"
   ]
  },
  {
   "cell_type": "code",
   "execution_count": 15,
   "id": "8d60ab62",
   "metadata": {},
   "outputs": [],
   "source": [
    "# writing data in file \n",
    "\n",
    "import csv\n",
    "\n",
    "header = ['Title','Price','Rating','Date']\n",
    "\n",
    "data = [title,price,rating,today]\n",
    "type(data)  # it's a list \n",
    "\n",
    "with open('AmazonDataset.csv','w',newline = '', encoding='UTF8') as f:\n",
    "    writer = csv.writer(f)\n",
    "    writer.writerow(header)\n",
    "    writer.writerow(data)\n",
    "    "
   ]
  },
  {
   "cell_type": "code",
   "execution_count": 16,
   "id": "08b8a897",
   "metadata": {},
   "outputs": [
    {
     "name": "stdout",
     "output_type": "stream",
     "text": [
      "                                               Title  Price  Rating  \\\n",
      "0  Funny Got Data MIS Data Systems Business Analy...  16.99     4.8   \n",
      "\n",
      "         Date  \n",
      "0  2022-11-03  \n"
     ]
    }
   ],
   "source": [
    "# reading data from file \n",
    "\n",
    "import pandas as pd\n",
    "\n",
    "#df = pd.read_csv(\"C:\\\\Users\\\\patil\\\\Dropbox\\\\My PC (DESKTOP-V2TJSM4)\\\\Desktop\\\\Amazon_webScraping project\\\\AmazonDataset.csv\")\n",
    "\n",
    "df = pd.read_csv(r'C:\\Users\\patil\\Dropbox\\My PC (DESKTOP-V2TJSM4)\\Desktop\\Amazon_webScraping project\\AmazonDataset.csv')\n",
    "\n",
    "#actul path was giving error so added one more backslashes at every place, or use r ,both works\n",
    "print(df)"
   ]
  },
  {
   "cell_type": "code",
   "execution_count": 20,
   "id": "24bb74c8",
   "metadata": {},
   "outputs": [],
   "source": [
    "# append data to the csv file\n",
    "\n",
    "with open('AmazonDataset.csv','a+',newline = '', encoding='UTF8') as f:\n",
    "    writer = csv.writer(f)\n",
    "    writer.writerow(data)\n"
   ]
  },
  {
   "cell_type": "code",
   "execution_count": 6,
   "id": "daccb07a",
   "metadata": {},
   "outputs": [],
   "source": [
    "# putting all code in function for automation\n",
    "\n",
    "def price_check():\n",
    "   \n",
    "    URL = 'https://www.amazon.com/Funny-Data-Systems-Business-Analyst/dp/B07FNW9FGJ/ref=sr_1_3?dchild=1&keywords=data%2Banalyst%2Btshirt&qid=1626655184&sr=8-3&customId=B0752XJYNL&th=1'\n",
    "    headers ={\"User-Agent\": \"Mozilla/5.0 (Windows NT 10.0; Win64; x64) AppleWebKit/537.36 (KHTML, like Gecko) Chrome/106.0.0.0 Safari/537.36\", \n",
    "    \"X-Amzn-Trace-Id\": \"Root=1-63616c0f-6d3fade6293440a13de31f54\",\"Accept-Encoding\":\"gzip, deflate\", \"Accept\":\"text/html,application/xhtml+xml,application/xml;q=0.9,*/*;q=0.8\", \"DNT\":\"1\",\"Connection\":\"close\", \"Upgrade-Insecure-Requests\":\"1\"}\n",
    "    \n",
    "    page = requests.get(URL, headers=headers)\n",
    "\n",
    "    soup1 = BeautifulSoup(page.content, \"html.parser\")\n",
    "\n",
    "    soup2 = BeautifulSoup(soup1.prettify(), \"html.parser\")\n",
    "\n",
    "    title = soup2.find('span',id='productTitle')\n",
    "    str(title.text)\n",
    "    \n",
    "    price = soup2.find('span', class_='a-offscreen')\n",
    "    \n",
    "    rating = soup2.find('span',class_='a-icon-alt')\n",
    "    \n",
    "    price = price.text\n",
    "    price = price.strip()[1:]\n",
    "\n",
    "    title = title.text\n",
    "    title = title.strip()\n",
    "\n",
    "    rating = rating.text\n",
    "    rating = rating.strip()[0:3]\n",
    "    \n",
    "    import datetime\n",
    "\n",
    "    today = datetime.date.today()\n",
    "    print(today)\n",
    "    \n",
    "    import csv\n",
    "\n",
    "    header = ['Title','Price','Rating','Date']\n",
    "\n",
    "    data = [title,price,rating,today]\n",
    "\n",
    "    with open('AmazonDataset.csv','a+',newline = '', encoding='UTF8') as f:\n",
    "        writer = csv.writer(f)\n",
    "        writer.writerow(data)\n",
    "\n",
    "\n",
    "    "
   ]
  },
  {
   "cell_type": "code",
   "execution_count": null,
   "id": "b58a11a0",
   "metadata": {},
   "outputs": [
    {
     "name": "stdout",
     "output_type": "stream",
     "text": [
      "2022-11-03\n"
     ]
    }
   ],
   "source": [
    "# price check will be done automatically everyday\n",
    "\n",
    "# 1 day = 86400 seconds\n",
    "\n",
    "while(True):\n",
    "    price_check()\n",
    "    time.sleep(86400)"
   ]
  },
  {
   "cell_type": "code",
   "execution_count": 21,
   "id": "83ebe016",
   "metadata": {},
   "outputs": [
    {
     "name": "stdout",
     "output_type": "stream",
     "text": [
      "  0  Funny Got Data MIS Data Systems Business Analyst T-Shirt      16.99    4.8  2022-11-03\n",
      "---  ----------------------------------------------------------  -------  -----  ------------\n",
      "  1  Funny Got Data MIS Data Systems Business Analyst T-Shirt      16.99    4.8  2022-11-03\n",
      "  2  Funny Got Data MIS Data Systems Business Analyst T-Shirt      16.99    4.8  2022-11-03\n",
      "  3  Funny Got Data MIS Data Systems Business Analyst T-Shirt      16.99    4.8  2022-11-03\n",
      "  4  Funny Got Data MIS Data Systems Business Analyst T-Shirt      16.99    4.8  2022-11-03\n"
     ]
    }
   ],
   "source": [
    "# printing data from csv in table formate\n",
    "\n",
    "import pandas as pd\n",
    "from tabulate import tabulate\n",
    "\n",
    "df = pd.read_csv(r'C:\\Users\\patil\\Dropbox\\My PC (DESKTOP-V2TJSM4)\\Desktop\\Amazon_webScraping project\\AmazonDataset.csv')\n",
    "\n",
    "# Date was dispalying on new column so added tabulate function from tabulate library \n",
    "\n",
    "print(tabulate(df,headers = 'firstrow'))"
   ]
  },
  {
   "cell_type": "code",
   "execution_count": null,
   "id": "f5d2843e",
   "metadata": {},
   "outputs": [],
   "source": []
  }
 ],
 "metadata": {
  "kernelspec": {
   "display_name": "Python 3 (ipykernel)",
   "language": "python",
   "name": "python3"
  },
  "language_info": {
   "codemirror_mode": {
    "name": "ipython",
    "version": 3
   },
   "file_extension": ".py",
   "mimetype": "text/x-python",
   "name": "python",
   "nbconvert_exporter": "python",
   "pygments_lexer": "ipython3",
   "version": "3.9.13"
  }
 },
 "nbformat": 4,
 "nbformat_minor": 5
}
